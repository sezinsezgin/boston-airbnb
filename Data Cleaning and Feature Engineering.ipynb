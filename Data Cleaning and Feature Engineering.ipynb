{
 "cells": [
  {
   "cell_type": "code",
   "execution_count": 1,
   "metadata": {},
   "outputs": [],
   "source": [
    "#import libraries\n",
    "import pandas as pd\n",
    "import numpy as np\n",
    "import seaborn as sns"
   ]
  },
  {
   "cell_type": "code",
   "execution_count": 2,
   "metadata": {},
   "outputs": [
    {
     "name": "stdout",
     "output_type": "stream",
     "text": [
      "(3585, 95)\n",
      "(68275, 6)\n"
     ]
    }
   ],
   "source": [
    "#read the dataset \n",
    "df=pd.read_csv('data/listings.csv')\n",
    "df2=pd.read_csv('data/reviews.csv')\n",
    "print(df.shape)\n",
    "print(df2.shape)"
   ]
  },
  {
   "cell_type": "code",
   "execution_count": 3,
   "metadata": {},
   "outputs": [
    {
     "data": {
      "text/html": [
       "<div>\n",
       "<style scoped>\n",
       "    .dataframe tbody tr th:only-of-type {\n",
       "        vertical-align: middle;\n",
       "    }\n",
       "\n",
       "    .dataframe tbody tr th {\n",
       "        vertical-align: top;\n",
       "    }\n",
       "\n",
       "    .dataframe thead th {\n",
       "        text-align: right;\n",
       "    }\n",
       "</style>\n",
       "<table border=\"1\" class=\"dataframe\">\n",
       "  <thead>\n",
       "    <tr style=\"text-align: right;\">\n",
       "      <th></th>\n",
       "      <th>id</th>\n",
       "      <th>scrape_id</th>\n",
       "      <th>host_id</th>\n",
       "      <th>host_listings_count</th>\n",
       "      <th>host_total_listings_count</th>\n",
       "      <th>neighbourhood_group_cleansed</th>\n",
       "      <th>latitude</th>\n",
       "      <th>longitude</th>\n",
       "      <th>accommodates</th>\n",
       "      <th>bathrooms</th>\n",
       "      <th>...</th>\n",
       "      <th>review_scores_accuracy</th>\n",
       "      <th>review_scores_cleanliness</th>\n",
       "      <th>review_scores_checkin</th>\n",
       "      <th>review_scores_communication</th>\n",
       "      <th>review_scores_location</th>\n",
       "      <th>review_scores_value</th>\n",
       "      <th>license</th>\n",
       "      <th>jurisdiction_names</th>\n",
       "      <th>calculated_host_listings_count</th>\n",
       "      <th>reviews_per_month</th>\n",
       "    </tr>\n",
       "  </thead>\n",
       "  <tbody>\n",
       "    <tr>\n",
       "      <th>count</th>\n",
       "      <td>3.585000e+03</td>\n",
       "      <td>3.585000e+03</td>\n",
       "      <td>3.585000e+03</td>\n",
       "      <td>3585.000000</td>\n",
       "      <td>3585.000000</td>\n",
       "      <td>0.0</td>\n",
       "      <td>3585.000000</td>\n",
       "      <td>3585.000000</td>\n",
       "      <td>3585.000000</td>\n",
       "      <td>3571.000000</td>\n",
       "      <td>...</td>\n",
       "      <td>2762.000000</td>\n",
       "      <td>2767.000000</td>\n",
       "      <td>2765.000000</td>\n",
       "      <td>2767.000000</td>\n",
       "      <td>2763.000000</td>\n",
       "      <td>2764.000000</td>\n",
       "      <td>0.0</td>\n",
       "      <td>0.0</td>\n",
       "      <td>3585.000000</td>\n",
       "      <td>2829.000000</td>\n",
       "    </tr>\n",
       "    <tr>\n",
       "      <th>mean</th>\n",
       "      <td>8.440875e+06</td>\n",
       "      <td>2.016091e+13</td>\n",
       "      <td>2.492311e+07</td>\n",
       "      <td>58.902371</td>\n",
       "      <td>58.902371</td>\n",
       "      <td>NaN</td>\n",
       "      <td>42.340032</td>\n",
       "      <td>-71.084818</td>\n",
       "      <td>3.041283</td>\n",
       "      <td>1.221647</td>\n",
       "      <td>...</td>\n",
       "      <td>9.431571</td>\n",
       "      <td>9.258041</td>\n",
       "      <td>9.646293</td>\n",
       "      <td>9.646549</td>\n",
       "      <td>9.414043</td>\n",
       "      <td>9.168234</td>\n",
       "      <td>NaN</td>\n",
       "      <td>NaN</td>\n",
       "      <td>12.733891</td>\n",
       "      <td>1.970908</td>\n",
       "    </tr>\n",
       "    <tr>\n",
       "      <th>std</th>\n",
       "      <td>4.500787e+06</td>\n",
       "      <td>0.000000e+00</td>\n",
       "      <td>2.292781e+07</td>\n",
       "      <td>171.119663</td>\n",
       "      <td>171.119663</td>\n",
       "      <td>NaN</td>\n",
       "      <td>0.024403</td>\n",
       "      <td>0.031565</td>\n",
       "      <td>1.778929</td>\n",
       "      <td>0.501487</td>\n",
       "      <td>...</td>\n",
       "      <td>0.931863</td>\n",
       "      <td>1.168977</td>\n",
       "      <td>0.762753</td>\n",
       "      <td>0.735507</td>\n",
       "      <td>0.903436</td>\n",
       "      <td>1.011116</td>\n",
       "      <td>NaN</td>\n",
       "      <td>NaN</td>\n",
       "      <td>29.415076</td>\n",
       "      <td>2.120561</td>\n",
       "    </tr>\n",
       "    <tr>\n",
       "      <th>min</th>\n",
       "      <td>3.353000e+03</td>\n",
       "      <td>2.016091e+13</td>\n",
       "      <td>4.240000e+03</td>\n",
       "      <td>0.000000</td>\n",
       "      <td>0.000000</td>\n",
       "      <td>NaN</td>\n",
       "      <td>42.235942</td>\n",
       "      <td>-71.171789</td>\n",
       "      <td>1.000000</td>\n",
       "      <td>0.000000</td>\n",
       "      <td>...</td>\n",
       "      <td>2.000000</td>\n",
       "      <td>2.000000</td>\n",
       "      <td>2.000000</td>\n",
       "      <td>4.000000</td>\n",
       "      <td>2.000000</td>\n",
       "      <td>2.000000</td>\n",
       "      <td>NaN</td>\n",
       "      <td>NaN</td>\n",
       "      <td>1.000000</td>\n",
       "      <td>0.010000</td>\n",
       "    </tr>\n",
       "    <tr>\n",
       "      <th>25%</th>\n",
       "      <td>4.679319e+06</td>\n",
       "      <td>2.016091e+13</td>\n",
       "      <td>6.103425e+06</td>\n",
       "      <td>1.000000</td>\n",
       "      <td>1.000000</td>\n",
       "      <td>NaN</td>\n",
       "      <td>42.329995</td>\n",
       "      <td>-71.105083</td>\n",
       "      <td>2.000000</td>\n",
       "      <td>1.000000</td>\n",
       "      <td>...</td>\n",
       "      <td>9.000000</td>\n",
       "      <td>9.000000</td>\n",
       "      <td>9.000000</td>\n",
       "      <td>9.000000</td>\n",
       "      <td>9.000000</td>\n",
       "      <td>9.000000</td>\n",
       "      <td>NaN</td>\n",
       "      <td>NaN</td>\n",
       "      <td>1.000000</td>\n",
       "      <td>0.480000</td>\n",
       "    </tr>\n",
       "    <tr>\n",
       "      <th>50%</th>\n",
       "      <td>8.577620e+06</td>\n",
       "      <td>2.016091e+13</td>\n",
       "      <td>1.928100e+07</td>\n",
       "      <td>2.000000</td>\n",
       "      <td>2.000000</td>\n",
       "      <td>NaN</td>\n",
       "      <td>42.345201</td>\n",
       "      <td>-71.078429</td>\n",
       "      <td>2.000000</td>\n",
       "      <td>1.000000</td>\n",
       "      <td>...</td>\n",
       "      <td>10.000000</td>\n",
       "      <td>10.000000</td>\n",
       "      <td>10.000000</td>\n",
       "      <td>10.000000</td>\n",
       "      <td>10.000000</td>\n",
       "      <td>9.000000</td>\n",
       "      <td>NaN</td>\n",
       "      <td>NaN</td>\n",
       "      <td>2.000000</td>\n",
       "      <td>1.170000</td>\n",
       "    </tr>\n",
       "    <tr>\n",
       "      <th>75%</th>\n",
       "      <td>1.278953e+07</td>\n",
       "      <td>2.016091e+13</td>\n",
       "      <td>3.622147e+07</td>\n",
       "      <td>7.000000</td>\n",
       "      <td>7.000000</td>\n",
       "      <td>NaN</td>\n",
       "      <td>42.354685</td>\n",
       "      <td>-71.062155</td>\n",
       "      <td>4.000000</td>\n",
       "      <td>1.000000</td>\n",
       "      <td>...</td>\n",
       "      <td>10.000000</td>\n",
       "      <td>10.000000</td>\n",
       "      <td>10.000000</td>\n",
       "      <td>10.000000</td>\n",
       "      <td>10.000000</td>\n",
       "      <td>10.000000</td>\n",
       "      <td>NaN</td>\n",
       "      <td>NaN</td>\n",
       "      <td>6.000000</td>\n",
       "      <td>2.720000</td>\n",
       "    </tr>\n",
       "    <tr>\n",
       "      <th>max</th>\n",
       "      <td>1.493346e+07</td>\n",
       "      <td>2.016091e+13</td>\n",
       "      <td>9.385411e+07</td>\n",
       "      <td>749.000000</td>\n",
       "      <td>749.000000</td>\n",
       "      <td>NaN</td>\n",
       "      <td>42.389982</td>\n",
       "      <td>-71.000100</td>\n",
       "      <td>16.000000</td>\n",
       "      <td>6.000000</td>\n",
       "      <td>...</td>\n",
       "      <td>10.000000</td>\n",
       "      <td>10.000000</td>\n",
       "      <td>10.000000</td>\n",
       "      <td>10.000000</td>\n",
       "      <td>10.000000</td>\n",
       "      <td>10.000000</td>\n",
       "      <td>NaN</td>\n",
       "      <td>NaN</td>\n",
       "      <td>136.000000</td>\n",
       "      <td>19.150000</td>\n",
       "    </tr>\n",
       "  </tbody>\n",
       "</table>\n",
       "<p>8 rows × 33 columns</p>\n",
       "</div>"
      ],
      "text/plain": [
       "                 id     scrape_id       host_id  host_listings_count  \\\n",
       "count  3.585000e+03  3.585000e+03  3.585000e+03          3585.000000   \n",
       "mean   8.440875e+06  2.016091e+13  2.492311e+07            58.902371   \n",
       "std    4.500787e+06  0.000000e+00  2.292781e+07           171.119663   \n",
       "min    3.353000e+03  2.016091e+13  4.240000e+03             0.000000   \n",
       "25%    4.679319e+06  2.016091e+13  6.103425e+06             1.000000   \n",
       "50%    8.577620e+06  2.016091e+13  1.928100e+07             2.000000   \n",
       "75%    1.278953e+07  2.016091e+13  3.622147e+07             7.000000   \n",
       "max    1.493346e+07  2.016091e+13  9.385411e+07           749.000000   \n",
       "\n",
       "       host_total_listings_count  neighbourhood_group_cleansed     latitude  \\\n",
       "count                3585.000000                           0.0  3585.000000   \n",
       "mean                   58.902371                           NaN    42.340032   \n",
       "std                   171.119663                           NaN     0.024403   \n",
       "min                     0.000000                           NaN    42.235942   \n",
       "25%                     1.000000                           NaN    42.329995   \n",
       "50%                     2.000000                           NaN    42.345201   \n",
       "75%                     7.000000                           NaN    42.354685   \n",
       "max                   749.000000                           NaN    42.389982   \n",
       "\n",
       "         longitude  accommodates    bathrooms  ...  review_scores_accuracy  \\\n",
       "count  3585.000000   3585.000000  3571.000000  ...             2762.000000   \n",
       "mean    -71.084818      3.041283     1.221647  ...                9.431571   \n",
       "std       0.031565      1.778929     0.501487  ...                0.931863   \n",
       "min     -71.171789      1.000000     0.000000  ...                2.000000   \n",
       "25%     -71.105083      2.000000     1.000000  ...                9.000000   \n",
       "50%     -71.078429      2.000000     1.000000  ...               10.000000   \n",
       "75%     -71.062155      4.000000     1.000000  ...               10.000000   \n",
       "max     -71.000100     16.000000     6.000000  ...               10.000000   \n",
       "\n",
       "       review_scores_cleanliness  review_scores_checkin  \\\n",
       "count                2767.000000            2765.000000   \n",
       "mean                    9.258041               9.646293   \n",
       "std                     1.168977               0.762753   \n",
       "min                     2.000000               2.000000   \n",
       "25%                     9.000000               9.000000   \n",
       "50%                    10.000000              10.000000   \n",
       "75%                    10.000000              10.000000   \n",
       "max                    10.000000              10.000000   \n",
       "\n",
       "       review_scores_communication  review_scores_location  \\\n",
       "count                  2767.000000             2763.000000   \n",
       "mean                      9.646549                9.414043   \n",
       "std                       0.735507                0.903436   \n",
       "min                       4.000000                2.000000   \n",
       "25%                       9.000000                9.000000   \n",
       "50%                      10.000000               10.000000   \n",
       "75%                      10.000000               10.000000   \n",
       "max                      10.000000               10.000000   \n",
       "\n",
       "       review_scores_value  license  jurisdiction_names  \\\n",
       "count          2764.000000      0.0                 0.0   \n",
       "mean              9.168234      NaN                 NaN   \n",
       "std               1.011116      NaN                 NaN   \n",
       "min               2.000000      NaN                 NaN   \n",
       "25%               9.000000      NaN                 NaN   \n",
       "50%               9.000000      NaN                 NaN   \n",
       "75%              10.000000      NaN                 NaN   \n",
       "max              10.000000      NaN                 NaN   \n",
       "\n",
       "       calculated_host_listings_count  reviews_per_month  \n",
       "count                     3585.000000        2829.000000  \n",
       "mean                        12.733891           1.970908  \n",
       "std                         29.415076           2.120561  \n",
       "min                          1.000000           0.010000  \n",
       "25%                          1.000000           0.480000  \n",
       "50%                          2.000000           1.170000  \n",
       "75%                          6.000000           2.720000  \n",
       "max                        136.000000          19.150000  \n",
       "\n",
       "[8 rows x 33 columns]"
      ]
     },
     "execution_count": 3,
     "metadata": {},
     "output_type": "execute_result"
    }
   ],
   "source": [
    "df.describe()"
   ]
  },
  {
   "cell_type": "markdown",
   "metadata": {},
   "source": [
    "### Data Cleaning"
   ]
  },
  {
   "cell_type": "code",
   "execution_count": 4,
   "metadata": {},
   "outputs": [
    {
     "name": "stdout",
     "output_type": "stream",
     "text": [
      "{'neighbourhood_group_cleansed', 'license', 'notes', 'square_feet', 'security_deposit', 'jurisdiction_names', 'weekly_price', 'monthly_price', 'has_availability'}\n"
     ]
    }
   ],
   "source": [
    "#Columns that more than 50% Empty\n",
    "empty_columns=set(df.columns[df.isnull().mean()>0.5])\n",
    "print(empty_columns)"
   ]
  },
  {
   "cell_type": "code",
   "execution_count": 5,
   "metadata": {},
   "outputs": [],
   "source": [
    "#drop columns that have more than 50% empty data.\n",
    "df.drop(columns=empty_columns,inplace=True)"
   ]
  },
  {
   "cell_type": "code",
   "execution_count": 6,
   "metadata": {},
   "outputs": [],
   "source": [
    "#column types\n",
    "df.select_dtypes(include='object')\n",
    "#unnecessary columns--mainly either text or single value columns\n",
    "uc=['host_url','latitude', 'first_review', 'last_review', 'availability_30',\n",
    "       'availability_60', 'availability_90', 'availability_365',\n",
    "    'longitude', 'is_location_exact','smart_location','last_scraped'\n",
    "    ,'scrape_id','description','interaction','house_rules','xl_picture_url'\n",
    "    ,'host_name','host_about','thumbnail_url','medium_url','picture_url'\n",
    "    ,'summary','space','experiences_offered','neighborhood_overview'\n",
    "    ,'transit','access','calendar_updated','calendar_last_scraped',\n",
    "    'host_thumbnail_url', 'host_picture_url','host_neighbourhood',\n",
    "    'host_listings_count','street','neighbourhood','city','state', 'zipcode','market','listing_url','country','country_code']\n",
    "df.drop(columns=uc,inplace=True)"
   ]
  },
  {
   "cell_type": "code",
   "execution_count": 7,
   "metadata": {},
   "outputs": [],
   "source": [
    "cat_cols=['host_response_time','host_is_superhost','host_has_profile_pic',\n",
    "          'host_identity_verified','neighbourhood_cleansed','bed_type','property_type','room_type','requires_license',\n",
    "         'requires_license', 'instant_bookable',\n",
    "          'cancellation_policy', 'require_guest_profile_picture',\n",
    "          'require_guest_phone_verification']\n",
    "num_cols=['host_total_listings_count','accommodates','bathrooms',\n",
    "          'bedrooms', 'beds', 'guests_included',\n",
    "          'minimum_nights', 'maximum_nights', 'number_of_reviews',\n",
    "          'review_scores_rating', 'review_scores_accuracy',\n",
    "          'review_scores_cleanliness', 'review_scores_checkin',\n",
    "          'review_scores_communication', 'review_scores_location',\n",
    "          'review_scores_value', 'calculated_host_listings_count',\n",
    "          'reviews_per_month']\n",
    "rate_cols=['host_response_rate','host_acceptance_rate']\n",
    "other_cols=['price','cleaning_fee','extra_people']"
   ]
  },
  {
   "cell_type": "code",
   "execution_count": 8,
   "metadata": {},
   "outputs": [],
   "source": [
    "for column in rate_cols:\n",
    "    df[column]= df[column].str.replace('%','')\n",
    "    df[column] = pd.to_numeric(df[column], downcast=\"float\")\n",
    "    df[column].fillna(df[column].mean(), inplace =True)"
   ]
  },
  {
   "cell_type": "code",
   "execution_count": 9,
   "metadata": {},
   "outputs": [
    {
     "name": "stdout",
     "output_type": "stream",
     "text": [
      "host_total_listings_count\n",
      "accommodates\n",
      "bathrooms\n",
      "bedrooms\n",
      "beds\n",
      "guests_included\n",
      "minimum_nights\n",
      "maximum_nights\n",
      "number_of_reviews\n",
      "review_scores_rating\n",
      "review_scores_accuracy\n",
      "review_scores_cleanliness\n",
      "review_scores_checkin\n",
      "review_scores_communication\n",
      "review_scores_location\n",
      "review_scores_value\n",
      "calculated_host_listings_count\n",
      "reviews_per_month\n"
     ]
    }
   ],
   "source": [
    "for column in num_cols:\n",
    "    print(column)\n",
    "    df[column] = pd.to_numeric(df[column], downcast=\"float\")\n",
    "    df[column].fillna(df[column].mean(), inplace =True)"
   ]
  },
  {
   "cell_type": "code",
   "execution_count": 10,
   "metadata": {},
   "outputs": [],
   "source": [
    "for column in other_cols:\n",
    "    df[column]= df[column].str.replace('%','')\n",
    "    df[column]= df[column].str.replace('$','')\n",
    "    df[column]= df[column].str.replace(',','')\n",
    "    df[column] = pd.to_numeric(df[column], downcast=\"float\")\n",
    "    "
   ]
  },
  {
   "cell_type": "code",
   "execution_count": 11,
   "metadata": {},
   "outputs": [],
   "source": [
    "df['cleaning_fee'].fillna(df['cleaning_fee'].mean(), inplace =True)"
   ]
  },
  {
   "cell_type": "markdown",
   "metadata": {},
   "source": [
    "### Feature Engineering"
   ]
  },
  {
   "cell_type": "code",
   "execution_count": 12,
   "metadata": {},
   "outputs": [
    {
     "data": {
      "text/plain": [
       "Boston, Massachusetts, United States              2421\n",
       "US                                                 521\n",
       "New York, New York, United States                  113\n",
       "Montreal, Quebec, Canada                            59\n",
       "Middlesex County, Massachusetts, United States      50\n",
       "                                                  ... \n",
       "Utrecht, Utrecht, Netherlands                        1\n",
       "Hillsboro Beach, Florida, United States              1\n",
       "Norwich, Vermont, United States                      1\n",
       "Medellin, Antioquia, Colombia                        1\n",
       "Bluffton, South Carolina, United States              1\n",
       "Name: host_location, Length: 176, dtype: int64"
      ]
     },
     "execution_count": 12,
     "metadata": {},
     "output_type": "execute_result"
    }
   ],
   "source": [
    "#create new column for if the host is based in Boston.\n",
    "df.host_location.value_counts()"
   ]
  },
  {
   "cell_type": "code",
   "execution_count": 13,
   "metadata": {},
   "outputs": [],
   "source": [
    "df['host_base_boston']= None\n",
    "def is_boston(city):\n",
    "    if city == 'Boston, Massachusetts, United States':\n",
    "        return True\n",
    "    else:\n",
    "        return False\n",
    "\n",
    "df['host_base_boston'] = df['host_location'].apply(lambda x: is_boston(x))\n",
    "df.drop(columns=['host_location'],inplace=True)"
   ]
  },
  {
   "cell_type": "code",
   "execution_count": 14,
   "metadata": {
    "scrolled": true
   },
   "outputs": [
    {
     "data": {
      "text/plain": [
       "True     2421\n",
       "False    1164\n",
       "Name: host_base_boston, dtype: int64"
      ]
     },
     "execution_count": 14,
     "metadata": {},
     "output_type": "execute_result"
    }
   ],
   "source": [
    "df['host_base_boston'].value_counts()"
   ]
  },
  {
   "cell_type": "code",
   "execution_count": 15,
   "metadata": {},
   "outputs": [],
   "source": [
    "df['host_verifications'] = df['host_verifications'].str.strip('[]').str.split('\\s*,\\s*')\n",
    "\n",
    "df1 = (\n",
    "    df['host_verifications'].explode()\n",
    "    .str.get_dummies().sum(level=0).add_prefix('host_verifications_')\n",
    ")\n",
    "\n",
    "df1 = df.drop('host_verifications', 1).join(df1)\n",
    "df=df1"
   ]
  },
  {
   "cell_type": "code",
   "execution_count": 16,
   "metadata": {},
   "outputs": [],
   "source": [
    "df['amenities'] = df['amenities'].str.strip('{}').str.split('\\s*,\\s*')\n",
    "\n",
    "df1 = (\n",
    "    df['amenities'].explode()\n",
    "    .str.get_dummies().sum(level=0).add_prefix('amenities_')\n",
    ")\n",
    "\n",
    "df1 = df.drop('amenities', 1).join(df1)\n",
    "df=df1"
   ]
  },
  {
   "cell_type": "code",
   "execution_count": 17,
   "metadata": {},
   "outputs": [],
   "source": [
    "df=pd.get_dummies(df,columns=cat_cols,drop_first=True)"
   ]
  },
  {
   "cell_type": "code",
   "execution_count": 18,
   "metadata": {},
   "outputs": [],
   "source": [
    "df.to_csv('data/listings_cleaned.csv',index=False)\n",
    "#To Do's\n",
    "#host_response_rate --> and all the numeric columns, are they numeric ?\n",
    "#'neighborhood -->price connection in model \n"
   ]
  },
  {
   "cell_type": "code",
   "execution_count": null,
   "metadata": {},
   "outputs": [],
   "source": []
  }
 ],
 "metadata": {
  "kernelspec": {
   "display_name": "Python 3",
   "language": "python",
   "name": "python3"
  },
  "language_info": {
   "codemirror_mode": {
    "name": "ipython",
    "version": 3
   },
   "file_extension": ".py",
   "mimetype": "text/x-python",
   "name": "python",
   "nbconvert_exporter": "python",
   "pygments_lexer": "ipython3",
   "version": "3.7.3"
  }
 },
 "nbformat": 4,
 "nbformat_minor": 4
}
